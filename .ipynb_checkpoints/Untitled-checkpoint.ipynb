{
 "cells": [
  {
   "cell_type": "code",
   "execution_count": 6,
   "metadata": {
    "collapsed": false
   },
   "outputs": [
    {
     "name": "stdout",
     "output_type": "stream",
     "text": [
      "['14', '30', '70']\n",
      "['11', '50', '80']\n",
      "['6', '60', '50']\n",
      "['2', '23', '95']\n",
      "['8', '33', '85']\n",
      "['8', '49', '91']\n",
      "['1', '28', '78']\n",
      "['10', '27', '99']\n",
      "['13', '6', '81']\n",
      "['11', '21', '50']\n",
      "['15', '20', '67']\n",
      "['4', '37', '89']\n",
      "['2', '48', '90']\n",
      "['14', '29', '93']\n",
      "['6', '19', '87']\n",
      "['7', '4', '84']\n",
      "['11', '26', '78']\n",
      "['11', '55', '97']\n",
      "['7', '17', '85']\n"
     ]
    }
   ],
   "source": [
    "import numpy as np \n",
    "import matplotlib.pyplot as plt\n",
    "import csv\n",
    "def main():\n",
    "    x = []\n",
    "    y = []\n",
    "    with open(\"StudyHoursDB.csv\",\"r\") as f:\n",
    "        reader = csv.reader(f,delimiter = \" \")\n",
    "        for row in reader:\n",
    "            print row\n",
    "            y.append(int(row[2]))\n",
    "            x.append(int(row[0])*60 + int(row[1]))\n",
    "    fit = np.polyfit(x,y,1)\n",
    "    fit_fn = np.poly1d(fit)\n",
    "    plt.plot(x,y,'yo',x,fit_fn(x),'--k')\n",
    "    plt.xlim(0,1000)\n",
    "    plt.ylim(0,100)\n",
    "    plt.ylabel('scores received')\n",
    "    plt.xlabel('minutes spent studying')\n",
    "    plt.show()\n",
    "if __name__ == \"__main__\":\n",
    "    main()"
   ]
  },
  {
   "cell_type": "code",
   "execution_count": null,
   "metadata": {
    "collapsed": true
   },
   "outputs": [],
   "source": []
  }
 ],
 "metadata": {
  "kernelspec": {
   "display_name": "Python 2",
   "language": "python",
   "name": "python2"
  },
  "language_info": {
   "codemirror_mode": {
    "name": "ipython",
    "version": 2
   },
   "file_extension": ".py",
   "mimetype": "text/x-python",
   "name": "python",
   "nbconvert_exporter": "python",
   "pygments_lexer": "ipython2",
   "version": "2.7.11"
  }
 },
 "nbformat": 4,
 "nbformat_minor": 0
}
